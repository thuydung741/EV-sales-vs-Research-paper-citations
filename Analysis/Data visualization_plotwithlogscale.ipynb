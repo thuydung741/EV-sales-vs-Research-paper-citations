{
 "cells": [
  {
   "cell_type": "code",
   "execution_count": 1,
   "metadata": {},
   "outputs": [],
   "source": [
    "import pandas as pd\n",
    "import matplotlib.pyplot as plt\n",
    "import numpy as np\n",
    "import math\n",
    "from sklearn import svm, datasets"
   ]
  },
  {
   "cell_type": "code",
   "execution_count": 2,
   "metadata": {},
   "outputs": [],
   "source": [
    "# Overall Data\n",
    "PData = pd.read_csv(r\"C:\\Users\\thuyd\\Desktop\\bootcamp\\Project 2\\Dataset v1\\Updated Battery related publication dataset_DNedited.csv\")\n",
    "# Unique Publisher Data\n",
    "UData = pd.read_csv(r\"C:\\Users\\thuyd\\Desktop\\bootcamp\\Project 2\\Dataset v1\\Grouped unique publisher citations sum.csv\")\n",
    "# EV Car Sales Data\n",
    "SData = pd.read_csv(r\"C:\\Users\\thuyd\\Desktop\\bootcamp\\Project 2\\Dataset v1\\EVSales_Edited.csv\")\n",
    "# Unique Publisher Data - Sorted\n",
    "USrtData = pd.read_csv(r\"C:\\Users\\thuyd\\Desktop\\bootcamp\\Project 2\\Dataset v1\\Groupedsortedimpacted_publisher_citations_sum.csv\")"
   ]
  },
  {
   "cell_type": "code",
   "execution_count": 3,
   "metadata": {},
   "outputs": [
    {
     "data": {
      "text/html": [
       "<div>\n",
       "<style scoped>\n",
       "    .dataframe tbody tr th:only-of-type {\n",
       "        vertical-align: middle;\n",
       "    }\n",
       "\n",
       "    .dataframe tbody tr th {\n",
       "        vertical-align: top;\n",
       "    }\n",
       "\n",
       "    .dataframe thead th {\n",
       "        text-align: right;\n",
       "    }\n",
       "</style>\n",
       "<table border=\"1\" class=\"dataframe\">\n",
       "  <thead>\n",
       "    <tr style=\"text-align: right;\">\n",
       "      <th></th>\n",
       "      <th>Unnamed: 0</th>\n",
       "      <th>Year</th>\n",
       "      <th>Publisher</th>\n",
       "      <th>Citation Sum</th>\n",
       "      <th>Impact_Publisher</th>\n",
       "    </tr>\n",
       "  </thead>\n",
       "  <tbody>\n",
       "    <tr>\n",
       "      <th>0</th>\n",
       "      <td>0</td>\n",
       "      <td>1997</td>\n",
       "      <td>Elsevier</td>\n",
       "      <td>1520</td>\n",
       "      <td>Elsevier</td>\n",
       "    </tr>\n",
       "    <tr>\n",
       "      <th>1</th>\n",
       "      <td>1</td>\n",
       "      <td>1997</td>\n",
       "      <td>iopscience.iop.org</td>\n",
       "      <td>1071</td>\n",
       "      <td>iopscience.iop.org</td>\n",
       "    </tr>\n",
       "    <tr>\n",
       "      <th>2</th>\n",
       "      <td>2</td>\n",
       "      <td>1997</td>\n",
       "      <td>Google Patents</td>\n",
       "      <td>470</td>\n",
       "      <td>Google Patents</td>\n",
       "    </tr>\n",
       "    <tr>\n",
       "      <th>3</th>\n",
       "      <td>3</td>\n",
       "      <td>1997</td>\n",
       "      <td>ieeexplore.ieee.org</td>\n",
       "      <td>414</td>\n",
       "      <td>ieeexplore.ieee.org</td>\n",
       "    </tr>\n",
       "    <tr>\n",
       "      <th>4</th>\n",
       "      <td>4</td>\n",
       "      <td>1997</td>\n",
       "      <td>search.ebscohost.com</td>\n",
       "      <td>89</td>\n",
       "      <td>search.ebscohost.com</td>\n",
       "    </tr>\n",
       "    <tr>\n",
       "      <th>...</th>\n",
       "      <td>...</td>\n",
       "      <td>...</td>\n",
       "      <td>...</td>\n",
       "      <td>...</td>\n",
       "      <td>...</td>\n",
       "    </tr>\n",
       "    <tr>\n",
       "      <th>451</th>\n",
       "      <td>451</td>\n",
       "      <td>2020</td>\n",
       "      <td>electrochemsci.org</td>\n",
       "      <td>2</td>\n",
       "      <td>NaN</td>\n",
       "    </tr>\n",
       "    <tr>\n",
       "      <th>452</th>\n",
       "      <td>452</td>\n",
       "      <td>2020</td>\n",
       "      <td>nature.com</td>\n",
       "      <td>1</td>\n",
       "      <td>NaN</td>\n",
       "    </tr>\n",
       "    <tr>\n",
       "      <th>453</th>\n",
       "      <td>453</td>\n",
       "      <td>2020</td>\n",
       "      <td>pubmed.ncbi.nlm.nih.gov</td>\n",
       "      <td>1</td>\n",
       "      <td>NaN</td>\n",
       "    </tr>\n",
       "    <tr>\n",
       "      <th>454</th>\n",
       "      <td>454</td>\n",
       "      <td>2020</td>\n",
       "      <td>Springer</td>\n",
       "      <td>0</td>\n",
       "      <td>NaN</td>\n",
       "    </tr>\n",
       "    <tr>\n",
       "      <th>455</th>\n",
       "      <td>455</td>\n",
       "      <td>2020</td>\n",
       "      <td>pubs.rsc.org</td>\n",
       "      <td>0</td>\n",
       "      <td>NaN</td>\n",
       "    </tr>\n",
       "  </tbody>\n",
       "</table>\n",
       "<p>456 rows × 5 columns</p>\n",
       "</div>"
      ],
      "text/plain": [
       "     Unnamed: 0  Year                Publisher  Citation Sum  \\\n",
       "0             0  1997                 Elsevier          1520   \n",
       "1             1  1997       iopscience.iop.org          1071   \n",
       "2             2  1997           Google Patents           470   \n",
       "3             3  1997      ieeexplore.ieee.org           414   \n",
       "4             4  1997     search.ebscohost.com            89   \n",
       "..          ...   ...                      ...           ...   \n",
       "451         451  2020       electrochemsci.org             2   \n",
       "452         452  2020               nature.com             1   \n",
       "453         453  2020  pubmed.ncbi.nlm.nih.gov             1   \n",
       "454         454  2020                 Springer             0   \n",
       "455         455  2020             pubs.rsc.org             0   \n",
       "\n",
       "         Impact_Publisher  \n",
       "0                Elsevier  \n",
       "1      iopscience.iop.org  \n",
       "2          Google Patents  \n",
       "3     ieeexplore.ieee.org  \n",
       "4    search.ebscohost.com  \n",
       "..                    ...  \n",
       "451                   NaN  \n",
       "452                   NaN  \n",
       "453                   NaN  \n",
       "454                   NaN  \n",
       "455                   NaN  \n",
       "\n",
       "[456 rows x 5 columns]"
      ]
     },
     "execution_count": 3,
     "metadata": {},
     "output_type": "execute_result"
    }
   ],
   "source": [
    "# Checking the data\n",
    "PData.head()\n",
    "UData.head()\n",
    "SData.head()\n",
    "USrtData"
   ]
  },
  {
   "cell_type": "code",
   "execution_count": 4,
   "metadata": {},
   "outputs": [],
   "source": [
    "# # Checking the dimensions\n",
    "# PData.shape\n",
    "# UData.shape\n",
    "# SData.shape"
   ]
  },
  {
   "cell_type": "code",
   "execution_count": 5,
   "metadata": {},
   "outputs": [],
   "source": [
    "# Citations Column: Unique\n",
    "Ci_sum = UData.iloc[0:,3].values\n",
    "Ci_years = UData.iloc[0:,1].values\n",
    "\n",
    "# Citations full data - options\n",
    "Ci_P_years = PData.iloc[0:,1].values\n",
    "Ci_P = PData.iloc[0:,0].values\n",
    "Ci_SEI = PData.iloc[0:,6].values\n",
    "Ci_cathode = PData.iloc[0:,7].values\n",
    "Ci_anode = PData.iloc[0:,8].values\n",
    "Ci_efficiency = PData.iloc[0:,9].values\n",
    "Ci_electrode = PData.iloc[0:,10].values\n",
    "\n",
    "# EV Sales Column\n",
    "Sales_sum = SData.iloc[:,1].values\n",
    "Sales_years = SData.iloc[:,0].values\n",
    "\n",
    "# Citations - Publishers unique and sorted\n",
    "USrtData_years = USrtData.iloc[:,1].values\n",
    "USrtData_Ci = USrtData.iloc[:,3].values\n",
    "USrtData_P = USrtData.iloc[:,2]\n",
    "\n",
    "#Sales_years.size for size\n",
    "# Lag_N is assigned publishcation lag\n",
    "\n",
    "Lag_N = 2"
   ]
  },
  {
   "cell_type": "code",
   "execution_count": null,
   "metadata": {},
   "outputs": [],
   "source": []
  },
  {
   "cell_type": "code",
   "execution_count": 6,
   "metadata": {},
   "outputs": [
    {
     "data": {
      "text/plain": [
       "array([ 3819., 11862., 12632., 18320., 25058., 23792., 24569., 27065.,\n",
       "       31693., 42911., 37763., 55467., 22914., 36535., 36645., 48879.,\n",
       "       46804., 41621., 28485., 26364., 22815.])"
      ]
     },
     "execution_count": 6,
     "metadata": {},
     "output_type": "execute_result"
    }
   ],
   "source": [
    "# Citations of all publishers by years\n",
    "j = 0 #index\n",
    "k = 1997 #beginning of the data, end year will have to minus (Lag_N - 1) to account for the publishcation lag\n",
    "yearsum = 0\n",
    "Ci_by_year = np.array([])\n",
    "for i in Ci_years:\n",
    "    if i == k:\n",
    "        yearsum = yearsum + Ci_sum[j]\n",
    "    elif i == 2019:\n",
    "        break\n",
    "    else:\n",
    "        Ci_by_year = np.append(Ci_by_year, yearsum)\n",
    "        k = k + 1\n",
    "        yearsum = 0\n",
    "        yearsum = yearsum + Ci_sum[j]\n",
    "    j = j + 1\n",
    "    \n",
    "# Conditions can be changed later\n",
    "\n",
    "Ci_by_year"
   ]
  },
  {
   "cell_type": "code",
   "execution_count": 7,
   "metadata": {},
   "outputs": [],
   "source": [
    "\n",
    "# k = Lag_N \n",
    "# Ci_by_yeargroup = np.array([])\n",
    "# ygroupsum = 0\n",
    "# for i in range(Ci_by_year.size):\n",
    "#     if i < k:\n",
    "#         ygroupsum = ygroupsum + Ci_by_year[i]\n",
    "#     elif i == k:\n",
    "#         Ci_by_yeargroup = np.append(Ci_by_yeargroup,ygroupsum)\n",
    "#         ygroupsum = 0\n",
    "#         ygroupsum = ygroupsum + Ci_by_year[i]\n",
    "#         k = k + Lag_N"
   ]
  },
  {
   "cell_type": "code",
   "execution_count": 8,
   "metadata": {},
   "outputs": [],
   "source": [
    "# k = Lag_N \n",
    "# Sales_by_yeargroup = np.array([])\n",
    "# Sgroupsum = 0\n",
    "# for i in range(Sales_sum.size):\n",
    "#     if i < k:\n",
    "#         Sgroupsum = Sgroupsum + Sales_sum[i]\n",
    "#     elif i == k:\n",
    "#         Sales_by_yeargroup = np.append(Sales_by_yeargroup,Sgroupsum)\n",
    "#         Sgroupsum = 0\n",
    "#         Sgroupsum = Sgroupsum + Sales_sum[i]\n",
    "#         k = k + Lag_N"
   ]
  },
  {
   "cell_type": "code",
   "execution_count": 9,
   "metadata": {
    "scrolled": true
   },
   "outputs": [],
   "source": [
    "# # a range of 2 years\n",
    "# plt.scatter(np.log10(Ci_by_yeargroup), np.log10(Sales_by_yeargroup))\n",
    "# plt.title('Scatter plot for ~sum of 2 years citation~ and ~sum of 2 years sales~')\n",
    "# plt.xlabel('Citations')\n",
    "# plt.ylabel('Sales')\n",
    "# plt.show()"
   ]
  },
  {
   "cell_type": "code",
   "execution_count": 10,
   "metadata": {},
   "outputs": [
    {
     "data": {
      "image/png": "[encoded data removed]",
      "text/plain": [
       "<Figure size 432x288 with 1 Axes>"
      ]
     },
     "metadata": {
      "needs_background": "light"
     },
     "output_type": "display_data"
    }
   ],
   "source": [
    "# 2 years lag\n",
    "plt.scatter(np.log10(Ci_by_year), np.log10(Sales_sum))\n",
    "plt.title('Scatter plot for citations vs sales, 2 year lag')\n",
    "plt.xlabel('Citations')\n",
    "plt.ylabel('Sales')\n",
    "plt.savefig(\"Total Citations vs EV Sales.png\")\n",
    "plt.show()"
   ]
  },
  {
   "cell_type": "code",
   "execution_count": 11,
   "metadata": {},
   "outputs": [
    {
     "data": {
      "image/png": "[encoded data removed]",
      "text/plain": [
       "<Figure size 432x288 with 1 Axes>"
      ]
     },
     "metadata": {
      "needs_background": "light"
     },
     "output_type": "display_data"
    }
   ],
   "source": [
    "# N years lag - can change the index for the slicing to see how different, but its a no-correlation kind of things\n",
    "plt.scatter(np.log10(Ci_by_year[:-3]), np.log10(Sales_sum[3:]))\n",
    "plt.title('Scatter plot for citations vs sales, 5 years lag')\n",
    "plt.xlabel('Citations')\n",
    "plt.ylabel('Sales')\n",
    "plt.savefig(\"Total Citations vs EV Sales, 5 years lag.png\")\n",
    "plt.show()"
   ]
  },
  {
   "cell_type": "code",
   "execution_count": 12,
   "metadata": {},
   "outputs": [
    {
     "data": {
      "text/plain": [
       "array([  787.,  1641.,  3726.,  1612.,  7802.,  6552., 10066., 11204.,\n",
       "        8870., 13445.,  9248., 18696.,  8891.,  7978., 11396., 17777.,\n",
       "       13182., 15891., 12775., 10504., 10945.])"
      ]
     },
     "execution_count": 12,
     "metadata": {},
     "output_type": "execute_result"
    }
   ],
   "source": [
    "# Citations of all publishers that satisfies the first condition, \"SEI\", by years\n",
    "j = 0 #index\n",
    "k = 1997 \n",
    "yearsum_SEI = 0\n",
    "Ci_by_year_SEI = np.array([])\n",
    "for i in Ci_P_years:\n",
    "    if i == k:\n",
    "        if Ci_SEI[j] == 1:\n",
    "            yearsum_SEI = yearsum_SEI + Ci_P[j]\n",
    "    elif i == 2019: #2019 is cut off point because the lag is 2 years\n",
    "        break\n",
    "    else:     \n",
    "        Ci_by_year_SEI = np.append(Ci_by_year_SEI, yearsum_SEI)\n",
    "        k = k + 1\n",
    "        yearsum_SEI = 0\n",
    "    j = j + 1\n",
    "    \n",
    "#Ci_P_years = PData.iloc[0:,1].values\n",
    "#Ci_P = PData.iloc[0:,0].values\n",
    "#Ci_SEI = PData.iloc[0:,6].values\n",
    "\n",
    "Ci_by_year_SEI"
   ]
  },
  {
   "cell_type": "code",
   "execution_count": 13,
   "metadata": {},
   "outputs": [
    {
     "data": {
      "text/plain": [
       "array([  787.,  1641.,  3726.,  1612.,  7802.,  6552., 10066., 11204.,\n",
       "        8870., 13445.,  9248., 18696.,  8891.,  7978., 11396., 17777.,\n",
       "       13182., 15891., 12775., 10504., 10945.])"
      ]
     },
     "execution_count": 13,
     "metadata": {},
     "output_type": "execute_result"
    }
   ],
   "source": [
    "Ci_by_year_SEI"
   ]
  },
  {
   "cell_type": "code",
   "execution_count": 14,
   "metadata": {},
   "outputs": [
    {
     "data": {
      "image/png": "[encoded data removed]",
      "text/plain": [
       "<Figure size 432x288 with 1 Axes>"
      ]
     },
     "metadata": {
      "needs_background": "light"
     },
     "output_type": "display_data"
    }
   ],
   "source": [
    "plt.scatter(np.log10(Ci_by_year_SEI), np.log10(Sales_sum))\n",
    "plt.title('Scatter plot for citations of \"SEI\" paper vs sales, 2 year lag')\n",
    "plt.xlabel('Citations')\n",
    "plt.ylabel('Sales')\n",
    "plt.savefig(\"Citations of paper with the keyword 'SEI' vs EV Sales.png\")\n",
    "plt.show()"
   ]
  },
  {
   "cell_type": "code",
   "execution_count": 15,
   "metadata": {},
   "outputs": [
    {
     "data": {
      "text/plain": [
       "array([ 183.,  870.,  469.,  309., 5194., 3572., 2250., 4260., 3508.,\n",
       "       5101., 4951., 7281., 2912., 2688., 6110., 4432., 3738., 6025.,\n",
       "       1322., 2344.,  998.])"
      ]
     },
     "execution_count": 15,
     "metadata": {},
     "output_type": "execute_result"
    }
   ],
   "source": [
    "#Ci_cathode = PData.iloc[0:,7].values\n",
    "#Ci_anode = PData.iloc[0:,8].values\n",
    "#Ci_efficiency = PData.iloc[0:,9].values\n",
    "#Ci_electrode = PData.iloc[0:,10].values\n",
    "\n",
    "# Citations of all publishers that satisfies the second condition, \"cathode\", by years\n",
    "j = 0 #index\n",
    "k = 1997 \n",
    "yearsum_cathode = 0\n",
    "Ci_by_year_cathode = np.array([])\n",
    "for i in Ci_P_years:\n",
    "    if i == k:\n",
    "        if Ci_cathode[j] == 1:\n",
    "            yearsum_cathode = yearsum_cathode + Ci_P[j]\n",
    "    elif i == 2019:\n",
    "        break\n",
    "    else:     \n",
    "        Ci_by_year_cathode = np.append(Ci_by_year_cathode, yearsum_cathode)\n",
    "        k = k + 1\n",
    "        yearsum_cathode = 0\n",
    "    j = j + 1\n",
    "Ci_by_year_cathode"
   ]
  },
  {
   "cell_type": "code",
   "execution_count": 16,
   "metadata": {},
   "outputs": [
    {
     "data": {
      "image/png": "[encoded data removed]",
      "text/plain": [
       "<Figure size 432x288 with 1 Axes>"
      ]
     },
     "metadata": {
      "needs_background": "light"
     },
     "output_type": "display_data"
    }
   ],
   "source": [
    "plt.scatter(np.log10(Ci_by_year_cathode),np.log10(Sales_sum))\n",
    "plt.title('Scatter plot for citations of \"cathode\" paper vs sales, 2 year lag')\n",
    "plt.xlabel('Citations')\n",
    "plt.ylabel('Sales')\n",
    "plt.savefig(\"Citations of paper with the keyword 'cathode' vs EV Sales.png\")\n",
    "plt.show()"
   ]
  },
  {
   "cell_type": "code",
   "execution_count": 17,
   "metadata": {},
   "outputs": [
    {
     "data": {
      "text/plain": [
       "array([  635.,  1832.,  2120., 10557.,  6234.,  4739.,  6302.,  7046.,\n",
       "        5533.,  8163.,  9283., 23874.,  7347., 13253., 12133., 22359.,\n",
       "       12598., 19490.,  8078., 10425., 11915.])"
      ]
     },
     "execution_count": 17,
     "metadata": {},
     "output_type": "execute_result"
    }
   ],
   "source": [
    "# Citations of all publishers that satisfies the third condition, \"anode\", by years\n",
    "j = 0 #index\n",
    "k = 1997 \n",
    "yearsum_anode = 0\n",
    "Ci_by_year_anode = np.array([])\n",
    "for i in Ci_P_years:\n",
    "    if i == k:\n",
    "        if Ci_anode[j] == 1:\n",
    "            yearsum_anode = yearsum_anode + Ci_P[j]\n",
    "    elif i == 2019:\n",
    "        break\n",
    "    else:     \n",
    "        Ci_by_year_anode = np.append(Ci_by_year_anode, yearsum_anode)\n",
    "        k = k + 1\n",
    "        yearsum_anode = 0\n",
    "    j = j + 1\n",
    "Ci_by_year_anode"
   ]
  },
  {
   "cell_type": "code",
   "execution_count": 18,
   "metadata": {},
   "outputs": [
    {
     "data": {
      "image/png": "[encoded data removed]",
      "text/plain": [
       "<Figure size 432x288 with 1 Axes>"
      ]
     },
     "metadata": {
      "needs_background": "light"
     },
     "output_type": "display_data"
    }
   ],
   "source": [
    "plt.scatter(np.log10(Ci_by_year_anode), np.log10(Sales_sum))\n",
    "plt.title('Scatter plot for citations of \"anode\" paper vs sales, 2 year lag')\n",
    "plt.xlabel('Citations')\n",
    "plt.ylabel('Sales')\n",
    "plt.savefig(\"Citations of paper with the keyword 'anode' vs EV Sales.png\")\n",
    "plt.show()"
   ]
  },
  {
   "cell_type": "code",
   "execution_count": 19,
   "metadata": {},
   "outputs": [
    {
     "data": {
      "text/plain": [
       "array([    0.,     0.,    49.,    49.,   225.,   232.,   270.,   871.,\n",
       "         871.,  1118.,  1874.,  2620.,  3283.,  3439.,  5436.,  8575.,\n",
       "       11354., 11770., 13572., 14368., 16206.])"
      ]
     },
     "execution_count": 19,
     "metadata": {},
     "output_type": "execute_result"
    }
   ],
   "source": [
    "# Citations of all publishers that satisfies the fourth condition, \"efficiency\", by years\n",
    "j = 0 #index\n",
    "k = 1997 \n",
    "yearsum_efficiency = 0\n",
    "Ci_by_year_efficiency = np.array([])\n",
    "for i in Ci_P_years:\n",
    "    if i == k:\n",
    "        if Ci_efficiency[j] == 1:\n",
    "            yearsum_efficiency = yearsum_efficiency + Ci_P[j]\n",
    "    elif i == 2019:\n",
    "        break\n",
    "    else:     \n",
    "        Ci_by_year_efficiency = np.append(Ci_by_year_efficiency, yearsum_efficiency)\n",
    "        k = k + 1\n",
    "        yearsum_cathode = 0\n",
    "    j = j + 1\n",
    "Ci_by_year_efficiency "
   ]
  },
  {
   "cell_type": "code",
   "execution_count": 20,
   "metadata": {},
   "outputs": [
    {
     "data": {
      "image/png": "[encoded data removed]",
      "text/plain": [
       "<Figure size 432x288 with 1 Axes>"
      ]
     },
     "metadata": {
      "needs_background": "light"
     },
     "output_type": "display_data"
    }
   ],
   "source": [
    "plt.scatter(np.log10(Ci_by_year_efficiency[2:]), np.log10(Sales_sum[2:]))\n",
    "plt.title('Scatter plot for citations of \"efficiency\" paper vs sales, 2 year lag')\n",
    "plt.xlabel('Citations')\n",
    "plt.ylabel('Sales')\n",
    "plt.savefig(\"Citations of paper with the keyword 'efficiency' vs EV Sales.png\")\n",
    "plt.show()\n",
    "\n",
    "# added slicing bc there are 2 0s in the org array"
   ]
  },
  {
   "cell_type": "code",
   "execution_count": 21,
   "metadata": {},
   "outputs": [
    {
     "data": {
      "text/plain": [
       "array([ 1230.,  2161.,  3380., 10308.,  5795.,  7108.,  4616.,  8598.,\n",
       "        5693., 11643., 11843., 13625.,  4507.,  7465.,  6554., 15371.,\n",
       "        7112.,  7361.,  6705.,  4009.,  4021.])"
      ]
     },
     "execution_count": 21,
     "metadata": {},
     "output_type": "execute_result"
    }
   ],
   "source": [
    "# Citations of all publishers that satisfies the second condition, \"electrode\", by years\n",
    "j = 0 #index\n",
    "k = 1997 \n",
    "yearsum_electrode = 0\n",
    "Ci_by_year_electrode = np.array([])\n",
    "for i in Ci_P_years:\n",
    "    if i == k:\n",
    "        if Ci_electrode[j] == 1:\n",
    "            yearsum_electrode = yearsum_electrode + Ci_P[j]\n",
    "    elif i == 2019:\n",
    "        break\n",
    "    else:     \n",
    "        Ci_by_year_electrode = np.append(Ci_by_year_electrode, yearsum_electrode)\n",
    "        k = k + 1\n",
    "        yearsum_electrode = 0\n",
    "    j = j + 1\n",
    "Ci_by_year_electrode"
   ]
  },
  {
   "cell_type": "code",
   "execution_count": 22,
   "metadata": {},
   "outputs": [
    {
     "data": {
      "image/png": "[encoded data removed]",
      "text/plain": [
       "<Figure size 432x288 with 1 Axes>"
      ]
     },
     "metadata": {
      "needs_background": "light"
     },
     "output_type": "display_data"
    }
   ],
   "source": [
    "plt.scatter(np.log10(Ci_by_year_electrode), np.log10(Sales_sum))\n",
    "plt.title('Scatter plot for citations of \"electrode\" paper vs sales, 2 year lag')\n",
    "plt.xlabel('Citations')\n",
    "plt.ylabel('Sales')\n",
    "plt.savefig(\"Citations of paper with the keyword 'electrode' vs EV Sales.png\")\n",
    "plt.show()"
   ]
  },
  {
   "cell_type": "code",
   "execution_count": 23,
   "metadata": {},
   "outputs": [
    {
     "data": {
      "text/plain": [
       "array([   0.,    0.,   48.,    0.,   60.,    0.,    0.,    0.,    0.,\n",
       "          9.,   89.,  471.,  119.,    0.,  746., 1523.,  170.,  222.,\n",
       "        136.,  310.,  416.])"
      ]
     },
     "execution_count": 23,
     "metadata": {},
     "output_type": "execute_result"
    }
   ],
   "source": [
    "# Citations of all publishers that satisfies certain conditions, by years\n",
    "j = 0 #index\n",
    "k = 1997 \n",
    "yearsum_all = 0\n",
    "Ci_by_year_all = np.array([])\n",
    "for i in Ci_P_years:\n",
    "    if i == k:\n",
    "        if Ci_efficiency[j] == 1 and Ci_electrode[j] == 1:\n",
    "            yearsum_all = yearsum_all + Ci_P[j]\n",
    "    elif i == 2019:\n",
    "        break\n",
    "    else:     \n",
    "        Ci_by_year_all = np.append(Ci_by_year_all, yearsum_all)\n",
    "        k = k + 1\n",
    "        yearsum_all = 0\n",
    "    j = j + 1\n",
    "Ci_by_year_all\n",
    "\n",
    "#Ci_SEI[j] == 1 and Ci_cathode[j] == 1 and Ci_anode[j] == 1 and Ci_efficiency[j] == 1 and Ci_electrode[j] == 1:\n",
    "# data too insignificant"
   ]
  },
  {
   "cell_type": "code",
   "execution_count": 24,
   "metadata": {},
   "outputs": [
    {
     "data": {
      "text/plain": [
       "array([ 3564., 11036., 11735., 17070., 22078., 21639., 23795., 25157.,\n",
       "       29734., 36222., 34395., 47382., 19595., 32623., 30934., 42813.,\n",
       "       42468., 38574., 25135., 24045., 19013.])"
      ]
     },
     "execution_count": 24,
     "metadata": {},
     "output_type": "execute_result"
    }
   ],
   "source": [
    "# Total Citations vs EV Sales but 5 most influencing publisher only\n",
    "\n",
    "# Citations of all publishers by years\n",
    "j = 0 #index\n",
    "k = 1997 #beginning of the data, end year will have to minus (Lag_N - 1) to account for the publishcation lag\n",
    "l = 0 # index for most influential publisher\n",
    "yearsum_5P = 0\n",
    "Ci_by_year_5P = np.array([])\n",
    "for i in USrtData_years:\n",
    "    if i == k and l < 5:\n",
    "        yearsum_5P = yearsum_5P + USrtData_Ci[j]\n",
    "    elif i == 2018:\n",
    "        break  \n",
    "    elif i == k and l == 5:\n",
    "        Ci_by_year_5P = np.append(Ci_by_year_5P, yearsum_5P)\n",
    "        yearsum_5P = 0\n",
    "    elif i > k:\n",
    "        yearsum_5P = yearsum_5P + USrtData_Ci[j]\n",
    "        k = k + 1\n",
    "        l = 0\n",
    "    j = j + 1\n",
    "    l = l + 1\n",
    "# Conditions can be changed later\n",
    "\n",
    "Ci_by_year_5P"
   ]
  },
  {
   "cell_type": "code",
   "execution_count": 25,
   "metadata": {},
   "outputs": [
    {
     "data": {
      "image/png": "[encoded data removed]",
      "text/plain": [
       "<Figure size 432x288 with 1 Axes>"
      ]
     },
     "metadata": {
      "needs_background": "light"
     },
     "output_type": "display_data"
    }
   ],
   "source": [
    "plt.scatter(np.log10(Ci_by_year_5P), np.log10(Sales_sum))\n",
    "plt.title('Scatter plot for citations of 5 most influential publisher, 2 year lag')\n",
    "plt.xlabel('Citations')\n",
    "plt.ylabel('Sales')\n",
    "plt.savefig(\"Citations of 5 most influential publishers vs EV Sales.png\")\n",
    "plt.show()"
   ]
  },
  {
   "cell_type": "code",
   "execution_count": 26,
   "metadata": {},
   "outputs": [],
   "source": [
    "#### COMBINED DATA\n",
    "all_x = np.stack((Ci_by_year, Ci_by_year_SEI, Ci_by_year_cathode, Ci_by_year_anode, Ci_by_year_efficiency, Ci_by_year_electrode, Ci_by_year_5P))\n",
    "combined_data = pd.DataFrame({'Total Citations per Year': Ci_by_year, 'Keyword_SEI': Ci_by_year_SEI, 'Keyword_cathode': Ci_by_year_cathode, 'Keyword_anode':Ci_by_year_anode, 'Keyword_Efficiency': Ci_by_year_efficiency, 'Keyword_electrode': Ci_by_year_electrode, 'Ci_5IPub': Ci_by_year_5P,'EV_Sales': Sales_sum})"
   ]
  },
  {
   "cell_type": "code",
   "execution_count": 27,
   "metadata": {},
   "outputs": [],
   "source": [
    "combined_data.to_csv('Combined_variables.csv', index=False)"
   ]
  },
  {
   "cell_type": "code",
   "execution_count": 28,
   "metadata": {},
   "outputs": [
    {
     "data": {
      "text/html": [
       "<div>\n",
       "<style scoped>\n",
       "    .dataframe tbody tr th:only-of-type {\n",
       "        vertical-align: middle;\n",
       "    }\n",
       "\n",
       "    .dataframe tbody tr th {\n",
       "        vertical-align: top;\n",
       "    }\n",
       "\n",
       "    .dataframe thead th {\n",
       "        text-align: right;\n",
       "    }\n",
       "</style>\n",
       "<table border=\"1\" class=\"dataframe\">\n",
       "  <thead>\n",
       "    <tr style=\"text-align: right;\">\n",
       "      <th></th>\n",
       "      <th>Total Citations per Year</th>\n",
       "      <th>Keyword_SEI</th>\n",
       "      <th>Keyword_cathode</th>\n",
       "      <th>Keyword_anode</th>\n",
       "      <th>Keyword_Efficiency</th>\n",
       "      <th>Keyword_electrode</th>\n",
       "      <th>Ci_5IPub</th>\n",
       "      <th>EV_Sales</th>\n",
       "    </tr>\n",
       "  </thead>\n",
       "  <tbody>\n",
       "    <tr>\n",
       "      <th>0</th>\n",
       "      <td>3819.0</td>\n",
       "      <td>787.0</td>\n",
       "      <td>183.0</td>\n",
       "      <td>635.0</td>\n",
       "      <td>0.0</td>\n",
       "      <td>1230.0</td>\n",
       "      <td>3564.0</td>\n",
       "      <td>17</td>\n",
       "    </tr>\n",
       "    <tr>\n",
       "      <th>1</th>\n",
       "      <td>11862.0</td>\n",
       "      <td>1641.0</td>\n",
       "      <td>870.0</td>\n",
       "      <td>1832.0</td>\n",
       "      <td>0.0</td>\n",
       "      <td>2161.0</td>\n",
       "      <td>11036.0</td>\n",
       "      <td>9350</td>\n",
       "    </tr>\n",
       "    <tr>\n",
       "      <th>2</th>\n",
       "      <td>12632.0</td>\n",
       "      <td>3726.0</td>\n",
       "      <td>469.0</td>\n",
       "      <td>2120.0</td>\n",
       "      <td>49.0</td>\n",
       "      <td>3380.0</td>\n",
       "      <td>11735.0</td>\n",
       "      <td>20282</td>\n",
       "    </tr>\n",
       "    <tr>\n",
       "      <th>3</th>\n",
       "      <td>18320.0</td>\n",
       "      <td>1612.0</td>\n",
       "      <td>309.0</td>\n",
       "      <td>10557.0</td>\n",
       "      <td>49.0</td>\n",
       "      <td>10308.0</td>\n",
       "      <td>17070.0</td>\n",
       "      <td>36042</td>\n",
       "    </tr>\n",
       "    <tr>\n",
       "      <th>4</th>\n",
       "      <td>25058.0</td>\n",
       "      <td>7802.0</td>\n",
       "      <td>5194.0</td>\n",
       "      <td>6234.0</td>\n",
       "      <td>225.0</td>\n",
       "      <td>5795.0</td>\n",
       "      <td>22078.0</td>\n",
       "      <td>47566</td>\n",
       "    </tr>\n",
       "    <tr>\n",
       "      <th>5</th>\n",
       "      <td>23792.0</td>\n",
       "      <td>6552.0</td>\n",
       "      <td>3572.0</td>\n",
       "      <td>4739.0</td>\n",
       "      <td>232.0</td>\n",
       "      <td>7108.0</td>\n",
       "      <td>21639.0</td>\n",
       "      <td>84233</td>\n",
       "    </tr>\n",
       "    <tr>\n",
       "      <th>6</th>\n",
       "      <td>24569.0</td>\n",
       "      <td>10066.0</td>\n",
       "      <td>2250.0</td>\n",
       "      <td>6302.0</td>\n",
       "      <td>270.0</td>\n",
       "      <td>4616.0</td>\n",
       "      <td>23795.0</td>\n",
       "      <td>205876</td>\n",
       "    </tr>\n",
       "    <tr>\n",
       "      <th>7</th>\n",
       "      <td>27065.0</td>\n",
       "      <td>11204.0</td>\n",
       "      <td>4260.0</td>\n",
       "      <td>7046.0</td>\n",
       "      <td>871.0</td>\n",
       "      <td>8598.0</td>\n",
       "      <td>25157.0</td>\n",
       "      <td>251864</td>\n",
       "    </tr>\n",
       "    <tr>\n",
       "      <th>8</th>\n",
       "      <td>31693.0</td>\n",
       "      <td>8870.0</td>\n",
       "      <td>3508.0</td>\n",
       "      <td>5533.0</td>\n",
       "      <td>871.0</td>\n",
       "      <td>5693.0</td>\n",
       "      <td>29734.0</td>\n",
       "      <td>351071</td>\n",
       "    </tr>\n",
       "    <tr>\n",
       "      <th>9</th>\n",
       "      <td>42911.0</td>\n",
       "      <td>13445.0</td>\n",
       "      <td>5101.0</td>\n",
       "      <td>8163.0</td>\n",
       "      <td>1118.0</td>\n",
       "      <td>11643.0</td>\n",
       "      <td>36222.0</td>\n",
       "      <td>315763</td>\n",
       "    </tr>\n",
       "    <tr>\n",
       "      <th>10</th>\n",
       "      <td>37763.0</td>\n",
       "      <td>9248.0</td>\n",
       "      <td>4951.0</td>\n",
       "      <td>9283.0</td>\n",
       "      <td>1874.0</td>\n",
       "      <td>11843.0</td>\n",
       "      <td>34395.0</td>\n",
       "      <td>290273</td>\n",
       "    </tr>\n",
       "    <tr>\n",
       "      <th>11</th>\n",
       "      <td>55467.0</td>\n",
       "      <td>18696.0</td>\n",
       "      <td>7281.0</td>\n",
       "      <td>23874.0</td>\n",
       "      <td>2620.0</td>\n",
       "      <td>13625.0</td>\n",
       "      <td>47382.0</td>\n",
       "      <td>274648</td>\n",
       "    </tr>\n",
       "    <tr>\n",
       "      <th>12</th>\n",
       "      <td>22914.0</td>\n",
       "      <td>8891.0</td>\n",
       "      <td>2912.0</td>\n",
       "      <td>7347.0</td>\n",
       "      <td>3283.0</td>\n",
       "      <td>4507.0</td>\n",
       "      <td>19595.0</td>\n",
       "      <td>284264</td>\n",
       "    </tr>\n",
       "    <tr>\n",
       "      <th>13</th>\n",
       "      <td>36535.0</td>\n",
       "      <td>7978.0</td>\n",
       "      <td>2688.0</td>\n",
       "      <td>13253.0</td>\n",
       "      <td>3439.0</td>\n",
       "      <td>7465.0</td>\n",
       "      <td>32623.0</td>\n",
       "      <td>487819</td>\n",
       "    </tr>\n",
       "    <tr>\n",
       "      <th>14</th>\n",
       "      <td>36645.0</td>\n",
       "      <td>11396.0</td>\n",
       "      <td>6110.0</td>\n",
       "      <td>12133.0</td>\n",
       "      <td>5436.0</td>\n",
       "      <td>6554.0</td>\n",
       "      <td>30934.0</td>\n",
       "      <td>592637</td>\n",
       "    </tr>\n",
       "    <tr>\n",
       "      <th>15</th>\n",
       "      <td>48879.0</td>\n",
       "      <td>17777.0</td>\n",
       "      <td>4432.0</td>\n",
       "      <td>22359.0</td>\n",
       "      <td>8575.0</td>\n",
       "      <td>15371.0</td>\n",
       "      <td>42813.0</td>\n",
       "      <td>571054</td>\n",
       "    </tr>\n",
       "    <tr>\n",
       "      <th>16</th>\n",
       "      <td>46804.0</td>\n",
       "      <td>13182.0</td>\n",
       "      <td>3738.0</td>\n",
       "      <td>12598.0</td>\n",
       "      <td>11354.0</td>\n",
       "      <td>7112.0</td>\n",
       "      <td>42468.0</td>\n",
       "      <td>498423</td>\n",
       "    </tr>\n",
       "    <tr>\n",
       "      <th>17</th>\n",
       "      <td>41621.0</td>\n",
       "      <td>15891.0</td>\n",
       "      <td>6025.0</td>\n",
       "      <td>19490.0</td>\n",
       "      <td>11770.0</td>\n",
       "      <td>7361.0</td>\n",
       "      <td>38574.0</td>\n",
       "      <td>506565</td>\n",
       "    </tr>\n",
       "    <tr>\n",
       "      <th>18</th>\n",
       "      <td>28485.0</td>\n",
       "      <td>12775.0</td>\n",
       "      <td>1322.0</td>\n",
       "      <td>8078.0</td>\n",
       "      <td>13572.0</td>\n",
       "      <td>6705.0</td>\n",
       "      <td>25135.0</td>\n",
       "      <td>558449</td>\n",
       "    </tr>\n",
       "    <tr>\n",
       "      <th>19</th>\n",
       "      <td>26364.0</td>\n",
       "      <td>10504.0</td>\n",
       "      <td>2344.0</td>\n",
       "      <td>10425.0</td>\n",
       "      <td>14368.0</td>\n",
       "      <td>4009.0</td>\n",
       "      <td>24045.0</td>\n",
       "      <td>704534</td>\n",
       "    </tr>\n",
       "    <tr>\n",
       "      <th>20</th>\n",
       "      <td>22815.0</td>\n",
       "      <td>10945.0</td>\n",
       "      <td>998.0</td>\n",
       "      <td>11915.0</td>\n",
       "      <td>16206.0</td>\n",
       "      <td>4021.0</td>\n",
       "      <td>19013.0</td>\n",
       "      <td>727390</td>\n",
       "    </tr>\n",
       "  </tbody>\n",
       "</table>\n",
       "</div>"
      ],
      "text/plain": [
       "    Total Citations per Year  Keyword_SEI  Keyword_cathode  Keyword_anode  \\\n",
       "0                     3819.0        787.0            183.0          635.0   \n",
       "1                    11862.0       1641.0            870.0         1832.0   \n",
       "2                    12632.0       3726.0            469.0         2120.0   \n",
       "3                    18320.0       1612.0            309.0        10557.0   \n",
       "4                    25058.0       7802.0           5194.0         6234.0   \n",
       "5                    23792.0       6552.0           3572.0         4739.0   \n",
       "6                    24569.0      10066.0           2250.0         6302.0   \n",
       "7                    27065.0      11204.0           4260.0         7046.0   \n",
       "8                    31693.0       8870.0           3508.0         5533.0   \n",
       "9                    42911.0      13445.0           5101.0         8163.0   \n",
       "10                   37763.0       9248.0           4951.0         9283.0   \n",
       "11                   55467.0      18696.0           7281.0        23874.0   \n",
       "12                   22914.0       8891.0           2912.0         7347.0   \n",
       "13                   36535.0       7978.0           2688.0        13253.0   \n",
       "14                   36645.0      11396.0           6110.0        12133.0   \n",
       "15                   48879.0      17777.0           4432.0        22359.0   \n",
       "16                   46804.0      13182.0           3738.0        12598.0   \n",
       "17                   41621.0      15891.0           6025.0        19490.0   \n",
       "18                   28485.0      12775.0           1322.0         8078.0   \n",
       "19                   26364.0      10504.0           2344.0        10425.0   \n",
       "20                   22815.0      10945.0            998.0        11915.0   \n",
       "\n",
       "    Keyword_Efficiency  Keyword_electrode  Ci_5IPub  EV_Sales  \n",
       "0                  0.0             1230.0    3564.0        17  \n",
       "1                  0.0             2161.0   11036.0      9350  \n",
       "2                 49.0             3380.0   11735.0     20282  \n",
       "3                 49.0            10308.0   17070.0     36042  \n",
       "4                225.0             5795.0   22078.0     47566  \n",
       "5                232.0             7108.0   21639.0     84233  \n",
       "6                270.0             4616.0   23795.0    205876  \n",
       "7                871.0             8598.0   25157.0    251864  \n",
       "8                871.0             5693.0   29734.0    351071  \n",
       "9               1118.0            11643.0   36222.0    315763  \n",
       "10              1874.0            11843.0   34395.0    290273  \n",
       "11              2620.0            13625.0   47382.0    274648  \n",
       "12              3283.0             4507.0   19595.0    284264  \n",
       "13              3439.0             7465.0   32623.0    487819  \n",
       "14              5436.0             6554.0   30934.0    592637  \n",
       "15              8575.0            15371.0   42813.0    571054  \n",
       "16             11354.0             7112.0   42468.0    498423  \n",
       "17             11770.0             7361.0   38574.0    506565  \n",
       "18             13572.0             6705.0   25135.0    558449  \n",
       "19             14368.0             4009.0   24045.0    704534  \n",
       "20             16206.0             4021.0   19013.0    727390  "
      ]
     },
     "execution_count": 28,
     "metadata": {},
     "output_type": "execute_result"
    }
   ],
   "source": [
    "combined_data"
   ]
  },
  {
   "cell_type": "code",
   "execution_count": null,
   "metadata": {},
   "outputs": [],
   "source": []
  }
 ],
 "metadata": {
  "kernelspec": {
   "display_name": "Python 3",
   "language": "python",
   "name": "python3"
  },
  "language_info": {
   "codemirror_mode": {
    "name": "ipython",
    "version": 3
   },
   "file_extension": ".py",
   "mimetype": "text/x-python",
   "name": "python",
   "nbconvert_exporter": "python",
   "pygments_lexer": "ipython3",
   "version": "3.8.5"
  }
 },
 "nbformat": 4,
 "nbformat_minor": 4
}
