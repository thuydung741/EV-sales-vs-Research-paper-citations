{
 "cells": [
  {
   "cell_type": "code",
   "execution_count": 1,
   "metadata": {},
   "outputs": [],
   "source": [
    "import pandas as pd\n",
    "import matplotlib.pyplot as plt\n",
    "import numpy as np\n",
    "import math\n",
    "from sklearn import svm, datasets\n",
    "from sklearn.linear_model import LinearRegression\n",
    "from sklearn.metrics import mean_squared_error, r2_score\n",
    "from sklearn import linear_model\n",
    "from sklearn.datasets import load_iris\n",
    "from sklearn.linear_model import LogisticRegression\n",
    "from sklearn.preprocessing import PolynomialFeatures\n",
    "from subprocess import Popen, PIPE\n",
    "%matplotlib inline\n",
    "\n",
    "from sklearn.linear_model import SGDRegressor\n",
    "from sklearn.pipeline import make_pipeline\n",
    "from sklearn.preprocessing import StandardScaler"
   ]
  },
  {
   "cell_type": "code",
   "execution_count": 2,
   "metadata": {},
   "outputs": [],
   "source": [
    "# Overall Data, file created from Data Visualization\n",
    "combined_data = pd.read_csv(\"Combined_variables.csv\")"
   ]
  },
  {
   "cell_type": "code",
   "execution_count": 3,
   "metadata": {},
   "outputs": [
    {
     "data": {
      "text/html": [
       "<div>\n",
       "<style scoped>\n",
       "    .dataframe tbody tr th:only-of-type {\n",
       "        vertical-align: middle;\n",
       "    }\n",
       "\n",
       "    .dataframe tbody tr th {\n",
       "        vertical-align: top;\n",
       "    }\n",
       "\n",
       "    .dataframe thead th {\n",
       "        text-align: right;\n",
       "    }\n",
       "</style>\n",
       "<table border=\"1\" class=\"dataframe\">\n",
       "  <thead>\n",
       "    <tr style=\"text-align: right;\">\n",
       "      <th></th>\n",
       "      <th>Total Citations per Year</th>\n",
       "      <th>Keyword_SEI</th>\n",
       "      <th>Keyword_cathode</th>\n",
       "      <th>Keyword_anode</th>\n",
       "      <th>Keyword_Efficiency</th>\n",
       "      <th>Keyword_electrode</th>\n",
       "      <th>Ci_5IPub</th>\n",
       "      <th>EV_Sales</th>\n",
       "    </tr>\n",
       "  </thead>\n",
       "  <tbody>\n",
       "    <tr>\n",
       "      <th>0</th>\n",
       "      <td>3819.0</td>\n",
       "      <td>787.0</td>\n",
       "      <td>183.0</td>\n",
       "      <td>635.0</td>\n",
       "      <td>0.0</td>\n",
       "      <td>1230.0</td>\n",
       "      <td>3564.0</td>\n",
       "      <td>17</td>\n",
       "    </tr>\n",
       "    <tr>\n",
       "      <th>1</th>\n",
       "      <td>11862.0</td>\n",
       "      <td>1641.0</td>\n",
       "      <td>870.0</td>\n",
       "      <td>1832.0</td>\n",
       "      <td>0.0</td>\n",
       "      <td>2161.0</td>\n",
       "      <td>11036.0</td>\n",
       "      <td>9350</td>\n",
       "    </tr>\n",
       "    <tr>\n",
       "      <th>2</th>\n",
       "      <td>12632.0</td>\n",
       "      <td>3726.0</td>\n",
       "      <td>469.0</td>\n",
       "      <td>2120.0</td>\n",
       "      <td>49.0</td>\n",
       "      <td>3380.0</td>\n",
       "      <td>11735.0</td>\n",
       "      <td>20282</td>\n",
       "    </tr>\n",
       "    <tr>\n",
       "      <th>3</th>\n",
       "      <td>18320.0</td>\n",
       "      <td>1612.0</td>\n",
       "      <td>309.0</td>\n",
       "      <td>10557.0</td>\n",
       "      <td>49.0</td>\n",
       "      <td>10308.0</td>\n",
       "      <td>17070.0</td>\n",
       "      <td>36042</td>\n",
       "    </tr>\n",
       "    <tr>\n",
       "      <th>4</th>\n",
       "      <td>25058.0</td>\n",
       "      <td>7802.0</td>\n",
       "      <td>5194.0</td>\n",
       "      <td>6234.0</td>\n",
       "      <td>225.0</td>\n",
       "      <td>5795.0</td>\n",
       "      <td>22078.0</td>\n",
       "      <td>47566</td>\n",
       "    </tr>\n",
       "    <tr>\n",
       "      <th>5</th>\n",
       "      <td>23792.0</td>\n",
       "      <td>6552.0</td>\n",
       "      <td>3572.0</td>\n",
       "      <td>4739.0</td>\n",
       "      <td>232.0</td>\n",
       "      <td>7108.0</td>\n",
       "      <td>21639.0</td>\n",
       "      <td>84233</td>\n",
       "    </tr>\n",
       "    <tr>\n",
       "      <th>6</th>\n",
       "      <td>24569.0</td>\n",
       "      <td>10066.0</td>\n",
       "      <td>2250.0</td>\n",
       "      <td>6302.0</td>\n",
       "      <td>270.0</td>\n",
       "      <td>4616.0</td>\n",
       "      <td>23795.0</td>\n",
       "      <td>205876</td>\n",
       "    </tr>\n",
       "    <tr>\n",
       "      <th>7</th>\n",
       "      <td>27065.0</td>\n",
       "      <td>11204.0</td>\n",
       "      <td>4260.0</td>\n",
       "      <td>7046.0</td>\n",
       "      <td>871.0</td>\n",
       "      <td>8598.0</td>\n",
       "      <td>25157.0</td>\n",
       "      <td>251864</td>\n",
       "    </tr>\n",
       "    <tr>\n",
       "      <th>8</th>\n",
       "      <td>31693.0</td>\n",
       "      <td>8870.0</td>\n",
       "      <td>3508.0</td>\n",
       "      <td>5533.0</td>\n",
       "      <td>871.0</td>\n",
       "      <td>5693.0</td>\n",
       "      <td>29734.0</td>\n",
       "      <td>351071</td>\n",
       "    </tr>\n",
       "    <tr>\n",
       "      <th>9</th>\n",
       "      <td>42911.0</td>\n",
       "      <td>13445.0</td>\n",
       "      <td>5101.0</td>\n",
       "      <td>8163.0</td>\n",
       "      <td>1118.0</td>\n",
       "      <td>11643.0</td>\n",
       "      <td>36222.0</td>\n",
       "      <td>315763</td>\n",
       "    </tr>\n",
       "    <tr>\n",
       "      <th>10</th>\n",
       "      <td>37763.0</td>\n",
       "      <td>9248.0</td>\n",
       "      <td>4951.0</td>\n",
       "      <td>9283.0</td>\n",
       "      <td>1874.0</td>\n",
       "      <td>11843.0</td>\n",
       "      <td>34395.0</td>\n",
       "      <td>290273</td>\n",
       "    </tr>\n",
       "    <tr>\n",
       "      <th>11</th>\n",
       "      <td>55467.0</td>\n",
       "      <td>18696.0</td>\n",
       "      <td>7281.0</td>\n",
       "      <td>23874.0</td>\n",
       "      <td>2620.0</td>\n",
       "      <td>13625.0</td>\n",
       "      <td>47382.0</td>\n",
       "      <td>274648</td>\n",
       "    </tr>\n",
       "    <tr>\n",
       "      <th>12</th>\n",
       "      <td>22914.0</td>\n",
       "      <td>8891.0</td>\n",
       "      <td>2912.0</td>\n",
       "      <td>7347.0</td>\n",
       "      <td>3283.0</td>\n",
       "      <td>4507.0</td>\n",
       "      <td>19595.0</td>\n",
       "      <td>284264</td>\n",
       "    </tr>\n",
       "    <tr>\n",
       "      <th>13</th>\n",
       "      <td>36535.0</td>\n",
       "      <td>7978.0</td>\n",
       "      <td>2688.0</td>\n",
       "      <td>13253.0</td>\n",
       "      <td>3439.0</td>\n",
       "      <td>7465.0</td>\n",
       "      <td>32623.0</td>\n",
       "      <td>487819</td>\n",
       "    </tr>\n",
       "    <tr>\n",
       "      <th>14</th>\n",
       "      <td>36645.0</td>\n",
       "      <td>11396.0</td>\n",
       "      <td>6110.0</td>\n",
       "      <td>12133.0</td>\n",
       "      <td>5436.0</td>\n",
       "      <td>6554.0</td>\n",
       "      <td>30934.0</td>\n",
       "      <td>592637</td>\n",
       "    </tr>\n",
       "    <tr>\n",
       "      <th>15</th>\n",
       "      <td>48879.0</td>\n",
       "      <td>17777.0</td>\n",
       "      <td>4432.0</td>\n",
       "      <td>22359.0</td>\n",
       "      <td>8575.0</td>\n",
       "      <td>15371.0</td>\n",
       "      <td>42813.0</td>\n",
       "      <td>571054</td>\n",
       "    </tr>\n",
       "    <tr>\n",
       "      <th>16</th>\n",
       "      <td>46804.0</td>\n",
       "      <td>13182.0</td>\n",
       "      <td>3738.0</td>\n",
       "      <td>12598.0</td>\n",
       "      <td>11354.0</td>\n",
       "      <td>7112.0</td>\n",
       "      <td>42468.0</td>\n",
       "      <td>498423</td>\n",
       "    </tr>\n",
       "    <tr>\n",
       "      <th>17</th>\n",
       "      <td>41621.0</td>\n",
       "      <td>15891.0</td>\n",
       "      <td>6025.0</td>\n",
       "      <td>19490.0</td>\n",
       "      <td>11770.0</td>\n",
       "      <td>7361.0</td>\n",
       "      <td>38574.0</td>\n",
       "      <td>506565</td>\n",
       "    </tr>\n",
       "    <tr>\n",
       "      <th>18</th>\n",
       "      <td>28485.0</td>\n",
       "      <td>12775.0</td>\n",
       "      <td>1322.0</td>\n",
       "      <td>8078.0</td>\n",
       "      <td>13572.0</td>\n",
       "      <td>6705.0</td>\n",
       "      <td>25135.0</td>\n",
       "      <td>558449</td>\n",
       "    </tr>\n",
       "    <tr>\n",
       "      <th>19</th>\n",
       "      <td>26364.0</td>\n",
       "      <td>10504.0</td>\n",
       "      <td>2344.0</td>\n",
       "      <td>10425.0</td>\n",
       "      <td>14368.0</td>\n",
       "      <td>4009.0</td>\n",
       "      <td>24045.0</td>\n",
       "      <td>704534</td>\n",
       "    </tr>\n",
       "    <tr>\n",
       "      <th>20</th>\n",
       "      <td>22815.0</td>\n",
       "      <td>10945.0</td>\n",
       "      <td>998.0</td>\n",
       "      <td>11915.0</td>\n",
       "      <td>16206.0</td>\n",
       "      <td>4021.0</td>\n",
       "      <td>19013.0</td>\n",
       "      <td>727390</td>\n",
       "    </tr>\n",
       "  </tbody>\n",
       "</table>\n",
       "</div>"
      ],
      "text/plain": [
       "    Total Citations per Year  Keyword_SEI  Keyword_cathode  Keyword_anode  \\\n",
       "0                     3819.0        787.0            183.0          635.0   \n",
       "1                    11862.0       1641.0            870.0         1832.0   \n",
       "2                    12632.0       3726.0            469.0         2120.0   \n",
       "3                    18320.0       1612.0            309.0        10557.0   \n",
       "4                    25058.0       7802.0           5194.0         6234.0   \n",
       "5                    23792.0       6552.0           3572.0         4739.0   \n",
       "6                    24569.0      10066.0           2250.0         6302.0   \n",
       "7                    27065.0      11204.0           4260.0         7046.0   \n",
       "8                    31693.0       8870.0           3508.0         5533.0   \n",
       "9                    42911.0      13445.0           5101.0         8163.0   \n",
       "10                   37763.0       9248.0           4951.0         9283.0   \n",
       "11                   55467.0      18696.0           7281.0        23874.0   \n",
       "12                   22914.0       8891.0           2912.0         7347.0   \n",
       "13                   36535.0       7978.0           2688.0        13253.0   \n",
       "14                   36645.0      11396.0           6110.0        12133.0   \n",
       "15                   48879.0      17777.0           4432.0        22359.0   \n",
       "16                   46804.0      13182.0           3738.0        12598.0   \n",
       "17                   41621.0      15891.0           6025.0        19490.0   \n",
       "18                   28485.0      12775.0           1322.0         8078.0   \n",
       "19                   26364.0      10504.0           2344.0        10425.0   \n",
       "20                   22815.0      10945.0            998.0        11915.0   \n",
       "\n",
       "    Keyword_Efficiency  Keyword_electrode  Ci_5IPub  EV_Sales  \n",
       "0                  0.0             1230.0    3564.0        17  \n",
       "1                  0.0             2161.0   11036.0      9350  \n",
       "2                 49.0             3380.0   11735.0     20282  \n",
       "3                 49.0            10308.0   17070.0     36042  \n",
       "4                225.0             5795.0   22078.0     47566  \n",
       "5                232.0             7108.0   21639.0     84233  \n",
       "6                270.0             4616.0   23795.0    205876  \n",
       "7                871.0             8598.0   25157.0    251864  \n",
       "8                871.0             5693.0   29734.0    351071  \n",
       "9               1118.0            11643.0   36222.0    315763  \n",
       "10              1874.0            11843.0   34395.0    290273  \n",
       "11              2620.0            13625.0   47382.0    274648  \n",
       "12              3283.0             4507.0   19595.0    284264  \n",
       "13              3439.0             7465.0   32623.0    487819  \n",
       "14              5436.0             6554.0   30934.0    592637  \n",
       "15              8575.0            15371.0   42813.0    571054  \n",
       "16             11354.0             7112.0   42468.0    498423  \n",
       "17             11770.0             7361.0   38574.0    506565  \n",
       "18             13572.0             6705.0   25135.0    558449  \n",
       "19             14368.0             4009.0   24045.0    704534  \n",
       "20             16206.0             4021.0   19013.0    727390  "
      ]
     },
     "execution_count": 3,
     "metadata": {},
     "output_type": "execute_result"
    }
   ],
   "source": [
    "combined_data"
   ]
  },
  {
   "cell_type": "code",
   "execution_count": 4,
   "metadata": {},
   "outputs": [
    {
     "name": "stderr",
     "output_type": "stream",
     "text": [
      "<ipython-input-4-cb1668826a27>:2: RuntimeWarning: divide by zero encountered in log10\n",
      "  combined_data_log = np.log10(combined_data)\n"
     ]
    },
    {
     "data": {
      "text/html": [
       "<div>\n",
       "<style scoped>\n",
       "    .dataframe tbody tr th:only-of-type {\n",
       "        vertical-align: middle;\n",
       "    }\n",
       "\n",
       "    .dataframe tbody tr th {\n",
       "        vertical-align: top;\n",
       "    }\n",
       "\n",
       "    .dataframe thead th {\n",
       "        text-align: right;\n",
       "    }\n",
       "</style>\n",
       "<table border=\"1\" class=\"dataframe\">\n",
       "  <thead>\n",
       "    <tr style=\"text-align: right;\">\n",
       "      <th></th>\n",
       "      <th>Total Citations per Year</th>\n",
       "      <th>Keyword_SEI</th>\n",
       "      <th>Keyword_cathode</th>\n",
       "      <th>Keyword_anode</th>\n",
       "      <th>Keyword_Efficiency</th>\n",
       "      <th>Keyword_electrode</th>\n",
       "      <th>Ci_5IPub</th>\n",
       "      <th>EV_Sales</th>\n",
       "    </tr>\n",
       "  </thead>\n",
       "  <tbody>\n",
       "    <tr>\n",
       "      <th>0</th>\n",
       "      <td>3.581950</td>\n",
       "      <td>2.895975</td>\n",
       "      <td>2.262451</td>\n",
       "      <td>2.802774</td>\n",
       "      <td>-inf</td>\n",
       "      <td>3.089905</td>\n",
       "      <td>3.551938</td>\n",
       "      <td>1.230449</td>\n",
       "    </tr>\n",
       "    <tr>\n",
       "      <th>1</th>\n",
       "      <td>4.074158</td>\n",
       "      <td>3.215109</td>\n",
       "      <td>2.939519</td>\n",
       "      <td>3.262925</td>\n",
       "      <td>-inf</td>\n",
       "      <td>3.334655</td>\n",
       "      <td>4.042812</td>\n",
       "      <td>3.970812</td>\n",
       "    </tr>\n",
       "    <tr>\n",
       "      <th>2</th>\n",
       "      <td>4.101472</td>\n",
       "      <td>3.571243</td>\n",
       "      <td>2.671173</td>\n",
       "      <td>3.326336</td>\n",
       "      <td>1.690196</td>\n",
       "      <td>3.528917</td>\n",
       "      <td>4.069483</td>\n",
       "      <td>4.307111</td>\n",
       "    </tr>\n",
       "    <tr>\n",
       "      <th>3</th>\n",
       "      <td>4.262925</td>\n",
       "      <td>3.207365</td>\n",
       "      <td>2.489958</td>\n",
       "      <td>4.023541</td>\n",
       "      <td>1.690196</td>\n",
       "      <td>4.013174</td>\n",
       "      <td>4.232234</td>\n",
       "      <td>4.556809</td>\n",
       "    </tr>\n",
       "    <tr>\n",
       "      <th>4</th>\n",
       "      <td>4.398946</td>\n",
       "      <td>3.892206</td>\n",
       "      <td>3.715502</td>\n",
       "      <td>3.794767</td>\n",
       "      <td>2.352183</td>\n",
       "      <td>3.763053</td>\n",
       "      <td>4.343960</td>\n",
       "      <td>4.677297</td>\n",
       "    </tr>\n",
       "    <tr>\n",
       "      <th>5</th>\n",
       "      <td>4.376431</td>\n",
       "      <td>3.816374</td>\n",
       "      <td>3.552911</td>\n",
       "      <td>3.675687</td>\n",
       "      <td>2.365488</td>\n",
       "      <td>3.851747</td>\n",
       "      <td>4.335237</td>\n",
       "      <td>4.925482</td>\n",
       "    </tr>\n",
       "    <tr>\n",
       "      <th>6</th>\n",
       "      <td>4.390387</td>\n",
       "      <td>4.002857</td>\n",
       "      <td>3.352183</td>\n",
       "      <td>3.799478</td>\n",
       "      <td>2.431364</td>\n",
       "      <td>3.664266</td>\n",
       "      <td>4.376486</td>\n",
       "      <td>5.313606</td>\n",
       "    </tr>\n",
       "    <tr>\n",
       "      <th>7</th>\n",
       "      <td>4.432408</td>\n",
       "      <td>4.049373</td>\n",
       "      <td>3.629410</td>\n",
       "      <td>3.847943</td>\n",
       "      <td>2.940018</td>\n",
       "      <td>3.934397</td>\n",
       "      <td>4.400659</td>\n",
       "      <td>5.401166</td>\n",
       "    </tr>\n",
       "    <tr>\n",
       "      <th>8</th>\n",
       "      <td>4.500963</td>\n",
       "      <td>3.947924</td>\n",
       "      <td>3.545060</td>\n",
       "      <td>3.742961</td>\n",
       "      <td>2.940018</td>\n",
       "      <td>3.755341</td>\n",
       "      <td>4.473253</td>\n",
       "      <td>5.545395</td>\n",
       "    </tr>\n",
       "    <tr>\n",
       "      <th>9</th>\n",
       "      <td>4.632569</td>\n",
       "      <td>4.128561</td>\n",
       "      <td>3.707655</td>\n",
       "      <td>3.911850</td>\n",
       "      <td>3.048442</td>\n",
       "      <td>4.066065</td>\n",
       "      <td>4.558972</td>\n",
       "      <td>5.499361</td>\n",
       "    </tr>\n",
       "    <tr>\n",
       "      <th>10</th>\n",
       "      <td>4.577066</td>\n",
       "      <td>3.966048</td>\n",
       "      <td>3.694693</td>\n",
       "      <td>3.967688</td>\n",
       "      <td>3.272770</td>\n",
       "      <td>4.073462</td>\n",
       "      <td>4.536495</td>\n",
       "      <td>5.462807</td>\n",
       "    </tr>\n",
       "    <tr>\n",
       "      <th>11</th>\n",
       "      <td>4.744035</td>\n",
       "      <td>4.271749</td>\n",
       "      <td>3.862191</td>\n",
       "      <td>4.377925</td>\n",
       "      <td>3.418301</td>\n",
       "      <td>4.134337</td>\n",
       "      <td>4.675613</td>\n",
       "      <td>5.438776</td>\n",
       "    </tr>\n",
       "    <tr>\n",
       "      <th>12</th>\n",
       "      <td>4.360101</td>\n",
       "      <td>3.948951</td>\n",
       "      <td>3.464191</td>\n",
       "      <td>3.866110</td>\n",
       "      <td>3.516271</td>\n",
       "      <td>3.653888</td>\n",
       "      <td>4.292145</td>\n",
       "      <td>5.453722</td>\n",
       "    </tr>\n",
       "    <tr>\n",
       "      <th>13</th>\n",
       "      <td>4.562709</td>\n",
       "      <td>3.901894</td>\n",
       "      <td>3.429429</td>\n",
       "      <td>4.122314</td>\n",
       "      <td>3.536432</td>\n",
       "      <td>3.873030</td>\n",
       "      <td>4.513524</td>\n",
       "      <td>5.688259</td>\n",
       "    </tr>\n",
       "    <tr>\n",
       "      <th>14</th>\n",
       "      <td>4.564015</td>\n",
       "      <td>4.056752</td>\n",
       "      <td>3.786041</td>\n",
       "      <td>4.083968</td>\n",
       "      <td>3.735279</td>\n",
       "      <td>3.816506</td>\n",
       "      <td>4.490436</td>\n",
       "      <td>5.772789</td>\n",
       "    </tr>\n",
       "    <tr>\n",
       "      <th>15</th>\n",
       "      <td>4.689122</td>\n",
       "      <td>4.249858</td>\n",
       "      <td>3.646600</td>\n",
       "      <td>4.349452</td>\n",
       "      <td>3.933234</td>\n",
       "      <td>4.186702</td>\n",
       "      <td>4.631576</td>\n",
       "      <td>5.756677</td>\n",
       "    </tr>\n",
       "    <tr>\n",
       "      <th>16</th>\n",
       "      <td>4.670283</td>\n",
       "      <td>4.119981</td>\n",
       "      <td>3.572639</td>\n",
       "      <td>4.100302</td>\n",
       "      <td>4.055149</td>\n",
       "      <td>3.851992</td>\n",
       "      <td>4.628062</td>\n",
       "      <td>5.697598</td>\n",
       "    </tr>\n",
       "    <tr>\n",
       "      <th>17</th>\n",
       "      <td>4.619313</td>\n",
       "      <td>4.201151</td>\n",
       "      <td>3.779957</td>\n",
       "      <td>4.289812</td>\n",
       "      <td>4.070776</td>\n",
       "      <td>3.866937</td>\n",
       "      <td>4.586295</td>\n",
       "      <td>5.704635</td>\n",
       "    </tr>\n",
       "    <tr>\n",
       "      <th>18</th>\n",
       "      <td>4.454616</td>\n",
       "      <td>4.106361</td>\n",
       "      <td>3.121231</td>\n",
       "      <td>3.907304</td>\n",
       "      <td>4.132644</td>\n",
       "      <td>3.826399</td>\n",
       "      <td>4.400279</td>\n",
       "      <td>5.746984</td>\n",
       "    </tr>\n",
       "    <tr>\n",
       "      <th>19</th>\n",
       "      <td>4.421011</td>\n",
       "      <td>4.021355</td>\n",
       "      <td>3.369958</td>\n",
       "      <td>4.018076</td>\n",
       "      <td>4.157396</td>\n",
       "      <td>3.603036</td>\n",
       "      <td>4.381025</td>\n",
       "      <td>5.847902</td>\n",
       "    </tr>\n",
       "    <tr>\n",
       "      <th>20</th>\n",
       "      <td>4.358220</td>\n",
       "      <td>4.039216</td>\n",
       "      <td>2.999131</td>\n",
       "      <td>4.076094</td>\n",
       "      <td>4.209676</td>\n",
       "      <td>3.604334</td>\n",
       "      <td>4.279051</td>\n",
       "      <td>5.861767</td>\n",
       "    </tr>\n",
       "  </tbody>\n",
       "</table>\n",
       "</div>"
      ],
      "text/plain": [
       "    Total Citations per Year  Keyword_SEI  Keyword_cathode  Keyword_anode  \\\n",
       "0                   3.581950     2.895975         2.262451       2.802774   \n",
       "1                   4.074158     3.215109         2.939519       3.262925   \n",
       "2                   4.101472     3.571243         2.671173       3.326336   \n",
       "3                   4.262925     3.207365         2.489958       4.023541   \n",
       "4                   4.398946     3.892206         3.715502       3.794767   \n",
       "5                   4.376431     3.816374         3.552911       3.675687   \n",
       "6                   4.390387     4.002857         3.352183       3.799478   \n",
       "7                   4.432408     4.049373         3.629410       3.847943   \n",
       "8                   4.500963     3.947924         3.545060       3.742961   \n",
       "9                   4.632569     4.128561         3.707655       3.911850   \n",
       "10                  4.577066     3.966048         3.694693       3.967688   \n",
       "11                  4.744035     4.271749         3.862191       4.377925   \n",
       "12                  4.360101     3.948951         3.464191       3.866110   \n",
       "13                  4.562709     3.901894         3.429429       4.122314   \n",
       "14                  4.564015     4.056752         3.786041       4.083968   \n",
       "15                  4.689122     4.249858         3.646600       4.349452   \n",
       "16                  4.670283     4.119981         3.572639       4.100302   \n",
       "17                  4.619313     4.201151         3.779957       4.289812   \n",
       "18                  4.454616     4.106361         3.121231       3.907304   \n",
       "19                  4.421011     4.021355         3.369958       4.018076   \n",
       "20                  4.358220     4.039216         2.999131       4.076094   \n",
       "\n",
       "    Keyword_Efficiency  Keyword_electrode  Ci_5IPub  EV_Sales  \n",
       "0                 -inf           3.089905  3.551938  1.230449  \n",
       "1                 -inf           3.334655  4.042812  3.970812  \n",
       "2             1.690196           3.528917  4.069483  4.307111  \n",
       "3             1.690196           4.013174  4.232234  4.556809  \n",
       "4             2.352183           3.763053  4.343960  4.677297  \n",
       "5             2.365488           3.851747  4.335237  4.925482  \n",
       "6             2.431364           3.664266  4.376486  5.313606  \n",
       "7             2.940018           3.934397  4.400659  5.401166  \n",
       "8             2.940018           3.755341  4.473253  5.545395  \n",
       "9             3.048442           4.066065  4.558972  5.499361  \n",
       "10            3.272770           4.073462  4.536495  5.462807  \n",
       "11            3.418301           4.134337  4.675613  5.438776  \n",
       "12            3.516271           3.653888  4.292145  5.453722  \n",
       "13            3.536432           3.873030  4.513524  5.688259  \n",
       "14            3.735279           3.816506  4.490436  5.772789  \n",
       "15            3.933234           4.186702  4.631576  5.756677  \n",
       "16            4.055149           3.851992  4.628062  5.697598  \n",
       "17            4.070776           3.866937  4.586295  5.704635  \n",
       "18            4.132644           3.826399  4.400279  5.746984  \n",
       "19            4.157396           3.603036  4.381025  5.847902  \n",
       "20            4.209676           3.604334  4.279051  5.861767  "
      ]
     },
     "execution_count": 4,
     "metadata": {},
     "output_type": "execute_result"
    }
   ],
   "source": [
    "# Preprocess   \n",
    "combined_data_log = np.log10(combined_data)\n",
    "\n",
    "#### Train and Test Data\n",
    "train = combined_data_log[combined_data.index < 15]\n",
    "test = combined_data_log[combined_data.index >= 15]\n",
    "\n",
    "combined_data_log"
   ]
  },
  {
   "cell_type": "code",
   "execution_count": 5,
   "metadata": {},
   "outputs": [],
   "source": [
    "# Recapping variables:\n",
    "#y: EV Sales: Sales_sum\n",
    "#x: Ci_by_year, Ci_by_year_SEI, Ci_by_year_cathode, Ci_by_year_anode, Ci_by_year_efficiency, Ci_by_year_electrode, \n",
    "# Ci_by_year_5P"
   ]
  },
  {
   "cell_type": "code",
   "execution_count": 6,
   "metadata": {},
   "outputs": [],
   "source": [
    "## START REGULAR LINEAR FIT"
   ]
  },
  {
   "cell_type": "code",
   "execution_count": 7,
   "metadata": {},
   "outputs": [
    {
     "name": "stdout",
     "output_type": "stream",
     "text": [
      "Please choose a keyword: Keyword_electrode\n"
     ]
    }
   ],
   "source": [
    "# Linear model first, for a random variable\n",
    "#Generael Fit for a chosen variable:\n",
    "\n",
    "WantedVariable = input(\"Please choose a keyword: \")\n",
    "#Copy paste from one of the following:\n",
    "#Total Citations per Year\n",
    "#Keyword_SEI\n",
    "#Keyword_cathode\n",
    "#Keyword_anode\n",
    "#Keyword_electrode\n",
    "#Ci_5IPub"
   ]
  },
  {
   "cell_type": "code",
   "execution_count": 8,
   "metadata": {},
   "outputs": [
    {
     "data": {
      "text/plain": [
       "'Keyword_electrode'"
      ]
     },
     "execution_count": 8,
     "metadata": {},
     "output_type": "execute_result"
    }
   ],
   "source": [
    "WantedVariable"
   ]
  },
  {
   "cell_type": "code",
   "execution_count": 9,
   "metadata": {},
   "outputs": [],
   "source": [
    "model_OVA = LinearRegression().fit(combined_data_log[[WantedVariable]],combined_data_log[[\"EV_Sales\"]])\n",
    "predictions_Y_OVA = model_OVA.predict(combined_data_log[[WantedVariable]])"
   ]
  },
  {
   "cell_type": "code",
   "execution_count": 10,
   "metadata": {},
   "outputs": [
    {
     "data": {
      "text/html": [
       "<div>\n",
       "<style scoped>\n",
       "    .dataframe tbody tr th:only-of-type {\n",
       "        vertical-align: middle;\n",
       "    }\n",
       "\n",
       "    .dataframe tbody tr th {\n",
       "        vertical-align: top;\n",
       "    }\n",
       "\n",
       "    .dataframe thead th {\n",
       "        text-align: right;\n",
       "    }\n",
       "</style>\n",
       "<table border=\"1\" class=\"dataframe\">\n",
       "  <thead>\n",
       "    <tr style=\"text-align: right;\">\n",
       "      <th></th>\n",
       "      <th>Keyword_electrode</th>\n",
       "    </tr>\n",
       "  </thead>\n",
       "  <tbody>\n",
       "    <tr>\n",
       "      <th>0</th>\n",
       "      <td>3.089905</td>\n",
       "    </tr>\n",
       "    <tr>\n",
       "      <th>1</th>\n",
       "      <td>3.334655</td>\n",
       "    </tr>\n",
       "    <tr>\n",
       "      <th>2</th>\n",
       "      <td>3.528917</td>\n",
       "    </tr>\n",
       "    <tr>\n",
       "      <th>3</th>\n",
       "      <td>4.013174</td>\n",
       "    </tr>\n",
       "    <tr>\n",
       "      <th>4</th>\n",
       "      <td>3.763053</td>\n",
       "    </tr>\n",
       "    <tr>\n",
       "      <th>5</th>\n",
       "      <td>3.851747</td>\n",
       "    </tr>\n",
       "    <tr>\n",
       "      <th>6</th>\n",
       "      <td>3.664266</td>\n",
       "    </tr>\n",
       "    <tr>\n",
       "      <th>7</th>\n",
       "      <td>3.934397</td>\n",
       "    </tr>\n",
       "    <tr>\n",
       "      <th>8</th>\n",
       "      <td>3.755341</td>\n",
       "    </tr>\n",
       "    <tr>\n",
       "      <th>9</th>\n",
       "      <td>4.066065</td>\n",
       "    </tr>\n",
       "    <tr>\n",
       "      <th>10</th>\n",
       "      <td>4.073462</td>\n",
       "    </tr>\n",
       "    <tr>\n",
       "      <th>11</th>\n",
       "      <td>4.134337</td>\n",
       "    </tr>\n",
       "    <tr>\n",
       "      <th>12</th>\n",
       "      <td>3.653888</td>\n",
       "    </tr>\n",
       "    <tr>\n",
       "      <th>13</th>\n",
       "      <td>3.873030</td>\n",
       "    </tr>\n",
       "    <tr>\n",
       "      <th>14</th>\n",
       "      <td>3.816506</td>\n",
       "    </tr>\n",
       "    <tr>\n",
       "      <th>15</th>\n",
       "      <td>4.186702</td>\n",
       "    </tr>\n",
       "    <tr>\n",
       "      <th>16</th>\n",
       "      <td>3.851992</td>\n",
       "    </tr>\n",
       "    <tr>\n",
       "      <th>17</th>\n",
       "      <td>3.866937</td>\n",
       "    </tr>\n",
       "    <tr>\n",
       "      <th>18</th>\n",
       "      <td>3.826399</td>\n",
       "    </tr>\n",
       "    <tr>\n",
       "      <th>19</th>\n",
       "      <td>3.603036</td>\n",
       "    </tr>\n",
       "    <tr>\n",
       "      <th>20</th>\n",
       "      <td>3.604334</td>\n",
       "    </tr>\n",
       "  </tbody>\n",
       "</table>\n",
       "</div>"
      ],
      "text/plain": [
       "    Keyword_electrode\n",
       "0            3.089905\n",
       "1            3.334655\n",
       "2            3.528917\n",
       "3            4.013174\n",
       "4            3.763053\n",
       "5            3.851747\n",
       "6            3.664266\n",
       "7            3.934397\n",
       "8            3.755341\n",
       "9            4.066065\n",
       "10           4.073462\n",
       "11           4.134337\n",
       "12           3.653888\n",
       "13           3.873030\n",
       "14           3.816506\n",
       "15           4.186702\n",
       "16           3.851992\n",
       "17           3.866937\n",
       "18           3.826399\n",
       "19           3.603036\n",
       "20           3.604334"
      ]
     },
     "execution_count": 10,
     "metadata": {},
     "output_type": "execute_result"
    }
   ],
   "source": [
    "combined_data_log[[WantedVariable]]"
   ]
  },
  {
   "cell_type": "code",
   "execution_count": 11,
   "metadata": {},
   "outputs": [],
   "source": [
    "# Now for predicting for said variable\n",
    "\n",
    "X_LNF_train = train[[WantedVariable]]\n",
    "Y_LNF_train = train[[\"EV_Sales\"]]\n",
    "X_LNF_test = test[[WantedVariable]]\n",
    "Y_LNF_test = test[[\"EV_Sales\"]]\n",
    "\n",
    "model_LNF = LinearRegression().fit(X_LNF_train,Y_LNF_train)\n",
    "predictions_Y_LNF = model_LNF.predict(X_LNF_test)"
   ]
  },
  {
   "cell_type": "code",
   "execution_count": 12,
   "metadata": {
    "scrolled": false
   },
   "outputs": [
    {
     "data": {
      "image/png": "[encoded data removed]",
      "text/plain": [
       "<Figure size 432x288 with 1 Axes>"
      ]
     },
     "metadata": {
      "needs_background": "light"
     },
     "output_type": "display_data"
    }
   ],
   "source": [
    "# Overall fit\n",
    "plt.scatter(combined_data_log[[WantedVariable]],combined_data_log[[\"EV_Sales\"]])\n",
    "plt.plot(combined_data_log[[WantedVariable]], predictions_Y_OVA)\n",
    "plt.plot(X_LNF_test,predictions_Y_LNF,color=\"red\")\n",
    "plt.show()\n",
    "\n",
    "#red line are what happened if we take 75% of the data, fit and then use that to predict the 25% left"
   ]
  },
  {
   "cell_type": "code",
   "execution_count": 13,
   "metadata": {},
   "outputs": [
    {
     "data": {
      "image/png": "[encoded data removed]",
      "text/plain": [
       "<Figure size 432x288 with 1 Axes>"
      ]
     },
     "metadata": {
      "needs_background": "light"
     },
     "output_type": "display_data"
    }
   ],
   "source": [
    "#close up on the testing data\n",
    "#red line is what happened if we take 75% of the data, fit and then use that to predict the 25% left\n",
    "plt.plot(X_LNF_test,predictions_Y_LNF,color=\"red\")\n",
    "plt.scatter(X_LNF_test,Y_LNF_test,color=\"blue\")\n",
    "plt.show()"
   ]
  },
  {
   "cell_type": "code",
   "execution_count": 14,
   "metadata": {},
   "outputs": [
    {
     "name": "stdout",
     "output_type": "stream",
     "text": [
      "Average Error:  [0.86249332]\n",
      "Percentage of Average Error to the Average Value of the Data:  [14.94980705]\n"
     ]
    }
   ],
   "source": [
    "# Error\n",
    "Error_LNF = sum(abs(Y_LNF_test.to_numpy() - predictions_Y_LNF)) / Y_LNF_test.shape[0]\n",
    "# Percentage Error\n",
    "MError_LNF = (Error_LNF/np.average(abs(Y_LNF_test.to_numpy()))) * 100\n",
    "print('Average Error: ',Error_LNF)\n",
    "print('Percentage of Average Error to the Average Value of the Data: ',MError_LNF)"
   ]
  },
  {
   "cell_type": "code",
   "execution_count": 15,
   "metadata": {},
   "outputs": [],
   "source": [
    "## END REGULAR LINEAR FIT"
   ]
  },
  {
   "cell_type": "code",
   "execution_count": 16,
   "metadata": {},
   "outputs": [],
   "source": [
    "# trying log regression instead of linear - didnt work\n",
    "#model_OA_L = LogisticRegression().fit(Ci_by_year.reshape(-1, 1), Sales_sum.reshape(-1, 1).ravel())\n",
    "#yplot_L = model_OA_L.predict(Ci_by_year.reshape(-1, 1))\n",
    "#plt.plot(Ci_by_year.reshape(-1, 1), yplot_L)\n",
    "#plt.scatter(Ci_by_year, Sales_sum)\n",
    "#plt.show()\n",
    "\n",
    "#FINE I GI VE UP"
   ]
  },
  {
   "cell_type": "code",
   "execution_count": 17,
   "metadata": {},
   "outputs": [],
   "source": [
    "## END LINEAR FIT"
   ]
  },
  {
   "cell_type": "code",
   "execution_count": 18,
   "metadata": {},
   "outputs": [],
   "source": [
    "## START POLYNOMIAL FIT"
   ]
  },
  {
   "cell_type": "code",
   "execution_count": 19,
   "metadata": {
    "scrolled": true
   },
   "outputs": [
    {
     "data": {
      "image/png": "[encoded data removed]",
      "text/plain": [
       "<Figure size 432x288 with 1 Axes>"
      ]
     },
     "metadata": {
      "needs_background": "light"
     },
     "output_type": "display_data"
    }
   ],
   "source": [
    "# do a poly fit for effeciency paper -------- CHEKC THIS AGAIN LATER\n",
    "X_train_poly = train[[\"Keyword_Efficiency\"]].iloc[2:,:]\n",
    "Y_train_poly = train[[\"EV_Sales\"]].iloc[2:,:]\n",
    "X_test_poly = test[[\"Keyword_Efficiency\"]]\n",
    "Y_test_poly = test[[\"EV_Sales\"]]\n",
    "\n",
    "\n",
    "poly_reg=PolynomialFeatures(degree=7)\n",
    "X_poly=poly_reg.fit_transform(X_train_poly)\n",
    "poly_reg.fit(X_poly,Y_train_poly)\n",
    "LF2=LinearRegression()\n",
    "LF2.fit(X_poly,Y_train_poly)\n",
    "\n",
    "plt.scatter(X_train_poly,Y_train_poly,color='red')\n",
    "plt.plot(X_train_poly,LF2.predict(poly_reg.fit_transform(X_train_poly)),color='blue')\n",
    "plt.title('Total Citations of paper with the keyword: efficiency vs EV Car Sales')\n",
    "plt.xlabel('Total Citations')\n",
    "plt.ylabel('EV Car Sales')\n",
    "plt.show()"
   ]
  },
  {
   "cell_type": "code",
   "execution_count": 20,
   "metadata": {},
   "outputs": [
    {
     "data": {
      "image/png": "[encoded data removed]",
      "text/plain": [
       "<Figure size 432x288 with 1 Axes>"
      ]
     },
     "metadata": {
      "needs_background": "light"
     },
     "output_type": "display_data"
    }
   ],
   "source": [
    "#Testing Data\n",
    "plt.scatter(X_test_poly,Y_test_poly,color='red')\n",
    "plt.plot(X_test_poly,LF2.predict(poly_reg.fit_transform(X_test_poly)),color='blue')\n",
    "plt.title('Total Citations of paper with the keyword: efficiency vs EV Car Sales')\n",
    "plt.xlabel('Total Citations')\n",
    "plt.ylabel('EV Car Sales')\n",
    "plt.show()"
   ]
  },
  {
   "cell_type": "code",
   "execution_count": 21,
   "metadata": {},
   "outputs": [
    {
     "name": "stdout",
     "output_type": "stream",
     "text": [
      "Average Error:  [38.94053528]\n",
      "Percentage of Average Error to the Average Value of the Data:  [674.96579526]\n"
     ]
    }
   ],
   "source": [
    "# Mean Error\n",
    "Error_PLF = sum(abs(Y_test_poly.to_numpy() - LF2.predict(poly_reg.fit_transform(X_test_poly)))) / Y_test_poly.shape[0]\n",
    "# Error compared to average value of the entire array\n",
    "MError_PLF = (Error_PLF/np.average(abs(Y_test_poly.to_numpy()))) * 100\n",
    "MError_PLF\n",
    "\n",
    "print('Average Error: ',Error_PLF)\n",
    "print('Percentage of Average Error to the Average Value of the Data: ',MError_PLF)"
   ]
  },
  {
   "cell_type": "code",
   "execution_count": 22,
   "metadata": {},
   "outputs": [],
   "source": [
    "## END POLYNOMIAL FIT"
   ]
  },
  {
   "cell_type": "code",
   "execution_count": 23,
   "metadata": {},
   "outputs": [],
   "source": [
    "## START MULTIVARIABLES FIT"
   ]
  },
  {
   "cell_type": "code",
   "execution_count": 24,
   "metadata": {},
   "outputs": [],
   "source": [
    "## Recapping variables:\n",
    "#y: EV Sales: Sales_sum\n",
    "#x: Ci_by_year, Ci_by_year_SEI, Ci_by_year_cathode, Ci_by_year_anode, Ci_by_year_efficiency, Ci_by_year_electrode, \n",
    "# Ci_by_year_5P"
   ]
  },
  {
   "cell_type": "code",
   "execution_count": 25,
   "metadata": {},
   "outputs": [],
   "source": [
    "\n",
    "MultiLinear = LinearRegression()\n",
    "#combined data is dataframe array\n",
    "\n",
    "X_train = train[[\"Total Citations per Year\",\"Keyword_SEI\",\"Keyword_cathode\",\"Keyword_anode\",\"Keyword_Efficiency\",\"Keyword_electrode\",\"Ci_5IPub\"]]\n",
    "Y_train = train[[\"EV_Sales\"]]"
   ]
  },
  {
   "cell_type": "code",
   "execution_count": 26,
   "metadata": {},
   "outputs": [
    {
     "data": {
      "text/plain": [
       "LinearRegression()"
      ]
     },
     "execution_count": 26,
     "metadata": {},
     "output_type": "execute_result"
    }
   ],
   "source": [
    "MultiLinear.fit(X_train.iloc[2:,:],Y_train.iloc[2:,:])"
   ]
  },
  {
   "cell_type": "code",
   "execution_count": 27,
   "metadata": {},
   "outputs": [],
   "source": [
    "X_test = test[[\"Total Citations per Year\",\"Keyword_SEI\",\"Keyword_cathode\",\"Keyword_anode\",\"Keyword_Efficiency\",\"Keyword_electrode\",\"Ci_5IPub\"]].values\n",
    "Y_test = test[[\"EV_Sales\"]].values\n"
   ]
  },
  {
   "cell_type": "code",
   "execution_count": 28,
   "metadata": {},
   "outputs": [
    {
     "name": "stdout",
     "output_type": "stream",
     "text": [
      "Weights: \n",
      "[[-5.82907703  0.02657156 -0.20898543 -0.23585407  0.65336476 -0.15497522\n",
      "   7.13711686]]\n",
      "Intercept: \n",
      "[0.01644511]\n",
      "Average Error:  [0.32053019]\n",
      "Percentage of Average Error to the Average Value of the Data:  [5.55582787]\n"
     ]
    }
   ],
   "source": [
    "predictions_Lfit = MultiLinear.predict(X_test)\n",
    "# Mean Error \n",
    "Error_MV = sum(abs(predictions_Lfit - Y_test))/test.shape[0]\n",
    "\n",
    "#Mean_Error_avg\n",
    "MError_MV = Error_MV / np.average(Y_test) * 100\n",
    "\n",
    "print('Weights: ')\n",
    "print(MultiLinear.coef_)\n",
    "print('Intercept: ')\n",
    "print(MultiLinear.intercept_)\n",
    "print('Average Error: ',Error_MV)\n",
    "print('Percentage of Average Error to the Average Value of the Data: ',MError_MV)"
   ]
  },
  {
   "cell_type": "code",
   "execution_count": 29,
   "metadata": {
    "scrolled": true
   },
   "outputs": [
    {
     "data": {
      "text/plain": [
       "5.769260538823352"
      ]
     },
     "execution_count": 29,
     "metadata": {},
     "output_type": "execute_result"
    }
   ],
   "source": [
    "np.average(Y_test)"
   ]
  },
  {
   "cell_type": "code",
   "execution_count": 30,
   "metadata": {},
   "outputs": [
    {
     "data": {
      "text/plain": [
       "array([0.32053019])"
      ]
     },
     "execution_count": 30,
     "metadata": {},
     "output_type": "execute_result"
    }
   ],
   "source": [
    "Error_MV"
   ]
  },
  {
   "cell_type": "code",
   "execution_count": 31,
   "metadata": {},
   "outputs": [],
   "source": [
    "## END MULTIVARIABLE FIT"
   ]
  },
  {
   "cell_type": "code",
   "execution_count": 32,
   "metadata": {},
   "outputs": [],
   "source": [
    "## START STOCHASTIC GRADIENT DESCENT"
   ]
  },
  {
   "cell_type": "code",
   "execution_count": 33,
   "metadata": {},
   "outputs": [
    {
     "name": "stderr",
     "output_type": "stream",
     "text": [
      "C:\\Users\\thuyd\\AppData\\Local\\Packages\\PythonSoftwareFoundation.Python.3.8_qbz5n2kfra8p0\\LocalCache\\local-packages\\Python38\\site-packages\\sklearn\\utils\\validation.py:73: DataConversionWarning: A column-vector y was passed when a 1d array was expected. Please change the shape of y to (n_samples, ), for example using ravel().\n",
      "  return f(**kwargs)\n"
     ]
    },
    {
     "data": {
      "text/plain": [
       "Pipeline(steps=[('standardscaler', StandardScaler()),\n",
       "                ('sgdregressor', SGDRegressor(max_iter=5000))])"
      ]
     },
     "execution_count": 33,
     "metadata": {},
     "output_type": "execute_result"
    }
   ],
   "source": [
    "#X_test, X_train\n",
    "#Y_test, Y_train\n",
    "X_train_GD = X_train.iloc[2:,:]\n",
    "Y_train_GD = Y_train.iloc[2:,:]\n",
    "X_test_GD = test[[\"Total Citations per Year\",\"Keyword_SEI\",\"Keyword_cathode\",\"Keyword_anode\",\"Keyword_Efficiency\",\"Keyword_electrode\",\"Ci_5IPub\"]]\n",
    "Y_test_GD = test[[\"EV_Sales\"]]\n",
    "\n",
    "reg = make_pipeline(StandardScaler(),\n",
    "                     SGDRegressor(max_iter=5000, tol=1e-3))\n",
    "reg.fit(X_train_GD, Y_train_GD)"
   ]
  },
  {
   "cell_type": "code",
   "execution_count": 34,
   "metadata": {},
   "outputs": [
    {
     "data": {
      "text/plain": [
       "array([5.64222496, 5.73980943, 5.73430975, 5.51047533, 5.57829789,\n",
       "       5.51236861])"
      ]
     },
     "execution_count": 34,
     "metadata": {},
     "output_type": "execute_result"
    }
   ],
   "source": [
    "predictions_GD = reg.predict(X_test_GD)\n",
    "predictions_GD"
   ]
  },
  {
   "cell_type": "code",
   "execution_count": 35,
   "metadata": {},
   "outputs": [
    {
     "data": {
      "text/html": [
       "<div>\n",
       "<style scoped>\n",
       "    .dataframe tbody tr th:only-of-type {\n",
       "        vertical-align: middle;\n",
       "    }\n",
       "\n",
       "    .dataframe tbody tr th {\n",
       "        vertical-align: top;\n",
       "    }\n",
       "\n",
       "    .dataframe thead th {\n",
       "        text-align: right;\n",
       "    }\n",
       "</style>\n",
       "<table border=\"1\" class=\"dataframe\">\n",
       "  <thead>\n",
       "    <tr style=\"text-align: right;\">\n",
       "      <th></th>\n",
       "      <th>EV_Sales</th>\n",
       "    </tr>\n",
       "  </thead>\n",
       "  <tbody>\n",
       "    <tr>\n",
       "      <th>15</th>\n",
       "      <td>5.756677</td>\n",
       "    </tr>\n",
       "    <tr>\n",
       "      <th>16</th>\n",
       "      <td>5.697598</td>\n",
       "    </tr>\n",
       "    <tr>\n",
       "      <th>17</th>\n",
       "      <td>5.704635</td>\n",
       "    </tr>\n",
       "    <tr>\n",
       "      <th>18</th>\n",
       "      <td>5.746984</td>\n",
       "    </tr>\n",
       "    <tr>\n",
       "      <th>19</th>\n",
       "      <td>5.847902</td>\n",
       "    </tr>\n",
       "    <tr>\n",
       "      <th>20</th>\n",
       "      <td>5.861767</td>\n",
       "    </tr>\n",
       "  </tbody>\n",
       "</table>\n",
       "</div>"
      ],
      "text/plain": [
       "    EV_Sales\n",
       "15  5.756677\n",
       "16  5.697598\n",
       "17  5.704635\n",
       "18  5.746984\n",
       "19  5.847902\n",
       "20  5.861767"
      ]
     },
     "execution_count": 35,
     "metadata": {},
     "output_type": "execute_result"
    }
   ],
   "source": [
    "Y_test_GD"
   ]
  },
  {
   "cell_type": "code",
   "execution_count": 36,
   "metadata": {},
   "outputs": [
    {
     "name": "stdout",
     "output_type": "stream",
     "text": [
      "Average Error:  0.946001210009784\n",
      "Percentage of Average Error to the Average Value of the Data:  16.834016817926283\n"
     ]
    }
   ],
   "source": [
    "# Mean Error\n",
    "Error_GD = sum(sum(abs(Y_test_GD.to_numpy() - predictions_GD))) / Y_test_GD.shape[0]\n",
    "\n",
    "# Mean Error compared to avg value\n",
    "MError_GD = Error_GD / np.average(predictions_GD) * 100\n",
    "\n",
    "print('Average Error: ',Error_GD)\n",
    "print('Percentage of Average Error to the Average Value of the Data: ',MError_GD)"
   ]
  },
  {
   "cell_type": "code",
   "execution_count": 37,
   "metadata": {},
   "outputs": [],
   "source": [
    "## END STOCHASTIC GRADIENT DESCENT"
   ]
  },
  {
   "cell_type": "code",
   "execution_count": null,
   "metadata": {},
   "outputs": [],
   "source": []
  },
  {
   "cell_type": "code",
   "execution_count": null,
   "metadata": {},
   "outputs": [],
   "source": []
  },
  {
   "cell_type": "code",
   "execution_count": null,
   "metadata": {},
   "outputs": [],
   "source": []
  },
  {
   "cell_type": "code",
   "execution_count": null,
   "metadata": {},
   "outputs": [],
   "source": []
  }
 ],
 "metadata": {
  "kernelspec": {
   "display_name": "Python 3",
   "language": "python",
   "name": "python3"
  },
  "language_info": {
   "codemirror_mode": {
    "name": "ipython",
    "version": 3
   },
   "file_extension": ".py",
   "mimetype": "text/x-python",
   "name": "python",
   "nbconvert_exporter": "python",
   "pygments_lexer": "ipython3",
   "version": "3.8.5"
  }
 },
 "nbformat": 4,
 "nbformat_minor": 4
}
